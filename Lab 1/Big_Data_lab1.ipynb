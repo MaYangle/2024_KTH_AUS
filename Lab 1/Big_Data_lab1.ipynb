{
  "nbformat": 4,
  "nbformat_minor": 0,
  "metadata": {
    "colab": {
      "provenance": []
    },
    "kernelspec": {
      "name": "python3",
      "display_name": "Python 3"
    },
    "language_info": {
      "name": "python"
    }
  },
  "cells": [
    {
      "cell_type": "markdown",
      "source": [
        "### **1.Imort liabries and data**"
      ],
      "metadata": {
        "id": "Wui4QOGSdWGs"
      }
    },
    {
      "cell_type": "code",
      "source": [
        "pip install emoji"
      ],
      "metadata": {
        "colab": {
          "base_uri": "https://localhost:8080/"
        },
        "id": "jLVRWam6jOSx",
        "outputId": "4506513f-2ced-4af6-aac1-ecd16f9851a5"
      },
      "execution_count": 1,
      "outputs": [
        {
          "output_type": "stream",
          "name": "stdout",
          "text": [
            "Collecting emoji\n",
            "  Downloading emoji-2.12.1-py3-none-any.whl.metadata (5.4 kB)\n",
            "Requirement already satisfied: typing-extensions>=4.7.0 in /usr/local/lib/python3.10/dist-packages (from emoji) (4.12.2)\n",
            "Downloading emoji-2.12.1-py3-none-any.whl (431 kB)\n",
            "\u001b[?25l   \u001b[90m━━━━━━━━━━━━━━━━━━━━━━━━━━━━━━━━━━━━━━━━\u001b[0m \u001b[32m0.0/431.4 kB\u001b[0m \u001b[31m?\u001b[0m eta \u001b[36m-:--:--\u001b[0m\r\u001b[2K   \u001b[91m━━━━━━━━━━━━━━━━━━━━━━━━━━━━━━━\u001b[0m\u001b[90m╺\u001b[0m\u001b[90m━━━━━━━━\u001b[0m \u001b[32m337.9/431.4 kB\u001b[0m \u001b[31m10.5 MB/s\u001b[0m eta \u001b[36m0:00:01\u001b[0m\r\u001b[2K   \u001b[90m━━━━━━━━━━━━━━━━━━━━━━━━━━━━━━━━━━━━━━━━\u001b[0m \u001b[32m431.4/431.4 kB\u001b[0m \u001b[31m8.2 MB/s\u001b[0m eta \u001b[36m0:00:00\u001b[0m\n",
            "\u001b[?25hInstalling collected packages: emoji\n",
            "Successfully installed emoji-2.12.1\n"
          ]
        }
      ]
    },
    {
      "cell_type": "code",
      "execution_count": 2,
      "metadata": {
        "id": "DQAAvJO2S2nP"
      },
      "outputs": [],
      "source": [
        "import pandas as pd\n",
        "import numpy as np\n",
        "import re\n",
        "import emoji\n",
        "from bs4 import BeautifulSoup"
      ]
    },
    {
      "cell_type": "code",
      "source": [
        "train = pd.read_csv(\"/content/drive/MyDrive/Big Data/train.csv\")\n",
        "test = pd.read_csv(\"/content/drive/MyDrive/Big Data/test.csv\")\n",
        "evaluation = pd.read_csv(\"/content/drive/MyDrive/Big Data/evaluation.csv\")"
      ],
      "metadata": {
        "id": "S8CGqCjqS8Rx"
      },
      "execution_count": 3,
      "outputs": []
    },
    {
      "cell_type": "code",
      "source": [
        "#check the general display of data\n",
        "train.head()"
      ],
      "metadata": {
        "colab": {
          "base_uri": "https://localhost:8080/",
          "height": 206
        },
        "id": "tKBO7WmKcLSr",
        "outputId": "eb68895b-6101-4868-845c-2c816b1779c6"
      },
      "execution_count": 4,
      "outputs": [
        {
          "output_type": "execute_result",
          "data": {
            "text/plain": [
              "   score                                               text\n",
              "0      0  overgeneralized, not helpful to anyone serious...\n",
              "1      1                           Great sound and service.\n",
              "2      1  love this book!!!: this book is a fast read ab...\n",
              "3      1  A hugely enjoyable screen version of Rona Jaff...\n",
              "4      0  What an uninteresting hodge-podge. It could ha..."
            ],
            "text/html": [
              "\n",
              "  <div id=\"df-c101ae6e-8ea2-4dce-94c1-974e5da54cfc\" class=\"colab-df-container\">\n",
              "    <div>\n",
              "<style scoped>\n",
              "    .dataframe tbody tr th:only-of-type {\n",
              "        vertical-align: middle;\n",
              "    }\n",
              "\n",
              "    .dataframe tbody tr th {\n",
              "        vertical-align: top;\n",
              "    }\n",
              "\n",
              "    .dataframe thead th {\n",
              "        text-align: right;\n",
              "    }\n",
              "</style>\n",
              "<table border=\"1\" class=\"dataframe\">\n",
              "  <thead>\n",
              "    <tr style=\"text-align: right;\">\n",
              "      <th></th>\n",
              "      <th>score</th>\n",
              "      <th>text</th>\n",
              "    </tr>\n",
              "  </thead>\n",
              "  <tbody>\n",
              "    <tr>\n",
              "      <th>0</th>\n",
              "      <td>0</td>\n",
              "      <td>overgeneralized, not helpful to anyone serious...</td>\n",
              "    </tr>\n",
              "    <tr>\n",
              "      <th>1</th>\n",
              "      <td>1</td>\n",
              "      <td>Great sound and service.</td>\n",
              "    </tr>\n",
              "    <tr>\n",
              "      <th>2</th>\n",
              "      <td>1</td>\n",
              "      <td>love this book!!!: this book is a fast read ab...</td>\n",
              "    </tr>\n",
              "    <tr>\n",
              "      <th>3</th>\n",
              "      <td>1</td>\n",
              "      <td>A hugely enjoyable screen version of Rona Jaff...</td>\n",
              "    </tr>\n",
              "    <tr>\n",
              "      <th>4</th>\n",
              "      <td>0</td>\n",
              "      <td>What an uninteresting hodge-podge. It could ha...</td>\n",
              "    </tr>\n",
              "  </tbody>\n",
              "</table>\n",
              "</div>\n",
              "    <div class=\"colab-df-buttons\">\n",
              "\n",
              "  <div class=\"colab-df-container\">\n",
              "    <button class=\"colab-df-convert\" onclick=\"convertToInteractive('df-c101ae6e-8ea2-4dce-94c1-974e5da54cfc')\"\n",
              "            title=\"Convert this dataframe to an interactive table.\"\n",
              "            style=\"display:none;\">\n",
              "\n",
              "  <svg xmlns=\"http://www.w3.org/2000/svg\" height=\"24px\" viewBox=\"0 -960 960 960\">\n",
              "    <path d=\"M120-120v-720h720v720H120Zm60-500h600v-160H180v160Zm220 220h160v-160H400v160Zm0 220h160v-160H400v160ZM180-400h160v-160H180v160Zm440 0h160v-160H620v160ZM180-180h160v-160H180v160Zm440 0h160v-160H620v160Z\"/>\n",
              "  </svg>\n",
              "    </button>\n",
              "\n",
              "  <style>\n",
              "    .colab-df-container {\n",
              "      display:flex;\n",
              "      gap: 12px;\n",
              "    }\n",
              "\n",
              "    .colab-df-convert {\n",
              "      background-color: #E8F0FE;\n",
              "      border: none;\n",
              "      border-radius: 50%;\n",
              "      cursor: pointer;\n",
              "      display: none;\n",
              "      fill: #1967D2;\n",
              "      height: 32px;\n",
              "      padding: 0 0 0 0;\n",
              "      width: 32px;\n",
              "    }\n",
              "\n",
              "    .colab-df-convert:hover {\n",
              "      background-color: #E2EBFA;\n",
              "      box-shadow: 0px 1px 2px rgba(60, 64, 67, 0.3), 0px 1px 3px 1px rgba(60, 64, 67, 0.15);\n",
              "      fill: #174EA6;\n",
              "    }\n",
              "\n",
              "    .colab-df-buttons div {\n",
              "      margin-bottom: 4px;\n",
              "    }\n",
              "\n",
              "    [theme=dark] .colab-df-convert {\n",
              "      background-color: #3B4455;\n",
              "      fill: #D2E3FC;\n",
              "    }\n",
              "\n",
              "    [theme=dark] .colab-df-convert:hover {\n",
              "      background-color: #434B5C;\n",
              "      box-shadow: 0px 1px 3px 1px rgba(0, 0, 0, 0.15);\n",
              "      filter: drop-shadow(0px 1px 2px rgba(0, 0, 0, 0.3));\n",
              "      fill: #FFFFFF;\n",
              "    }\n",
              "  </style>\n",
              "\n",
              "    <script>\n",
              "      const buttonEl =\n",
              "        document.querySelector('#df-c101ae6e-8ea2-4dce-94c1-974e5da54cfc button.colab-df-convert');\n",
              "      buttonEl.style.display =\n",
              "        google.colab.kernel.accessAllowed ? 'block' : 'none';\n",
              "\n",
              "      async function convertToInteractive(key) {\n",
              "        const element = document.querySelector('#df-c101ae6e-8ea2-4dce-94c1-974e5da54cfc');\n",
              "        const dataTable =\n",
              "          await google.colab.kernel.invokeFunction('convertToInteractive',\n",
              "                                                    [key], {});\n",
              "        if (!dataTable) return;\n",
              "\n",
              "        const docLinkHtml = 'Like what you see? Visit the ' +\n",
              "          '<a target=\"_blank\" href=https://colab.research.google.com/notebooks/data_table.ipynb>data table notebook</a>'\n",
              "          + ' to learn more about interactive tables.';\n",
              "        element.innerHTML = '';\n",
              "        dataTable['output_type'] = 'display_data';\n",
              "        await google.colab.output.renderOutput(dataTable, element);\n",
              "        const docLink = document.createElement('div');\n",
              "        docLink.innerHTML = docLinkHtml;\n",
              "        element.appendChild(docLink);\n",
              "      }\n",
              "    </script>\n",
              "  </div>\n",
              "\n",
              "\n",
              "<div id=\"df-47eff8c4-ee40-43a2-8fef-8f9e8a6e829d\">\n",
              "  <button class=\"colab-df-quickchart\" onclick=\"quickchart('df-47eff8c4-ee40-43a2-8fef-8f9e8a6e829d')\"\n",
              "            title=\"Suggest charts\"\n",
              "            style=\"display:none;\">\n",
              "\n",
              "<svg xmlns=\"http://www.w3.org/2000/svg\" height=\"24px\"viewBox=\"0 0 24 24\"\n",
              "     width=\"24px\">\n",
              "    <g>\n",
              "        <path d=\"M19 3H5c-1.1 0-2 .9-2 2v14c0 1.1.9 2 2 2h14c1.1 0 2-.9 2-2V5c0-1.1-.9-2-2-2zM9 17H7v-7h2v7zm4 0h-2V7h2v10zm4 0h-2v-4h2v4z\"/>\n",
              "    </g>\n",
              "</svg>\n",
              "  </button>\n",
              "\n",
              "<style>\n",
              "  .colab-df-quickchart {\n",
              "      --bg-color: #E8F0FE;\n",
              "      --fill-color: #1967D2;\n",
              "      --hover-bg-color: #E2EBFA;\n",
              "      --hover-fill-color: #174EA6;\n",
              "      --disabled-fill-color: #AAA;\n",
              "      --disabled-bg-color: #DDD;\n",
              "  }\n",
              "\n",
              "  [theme=dark] .colab-df-quickchart {\n",
              "      --bg-color: #3B4455;\n",
              "      --fill-color: #D2E3FC;\n",
              "      --hover-bg-color: #434B5C;\n",
              "      --hover-fill-color: #FFFFFF;\n",
              "      --disabled-bg-color: #3B4455;\n",
              "      --disabled-fill-color: #666;\n",
              "  }\n",
              "\n",
              "  .colab-df-quickchart {\n",
              "    background-color: var(--bg-color);\n",
              "    border: none;\n",
              "    border-radius: 50%;\n",
              "    cursor: pointer;\n",
              "    display: none;\n",
              "    fill: var(--fill-color);\n",
              "    height: 32px;\n",
              "    padding: 0;\n",
              "    width: 32px;\n",
              "  }\n",
              "\n",
              "  .colab-df-quickchart:hover {\n",
              "    background-color: var(--hover-bg-color);\n",
              "    box-shadow: 0 1px 2px rgba(60, 64, 67, 0.3), 0 1px 3px 1px rgba(60, 64, 67, 0.15);\n",
              "    fill: var(--button-hover-fill-color);\n",
              "  }\n",
              "\n",
              "  .colab-df-quickchart-complete:disabled,\n",
              "  .colab-df-quickchart-complete:disabled:hover {\n",
              "    background-color: var(--disabled-bg-color);\n",
              "    fill: var(--disabled-fill-color);\n",
              "    box-shadow: none;\n",
              "  }\n",
              "\n",
              "  .colab-df-spinner {\n",
              "    border: 2px solid var(--fill-color);\n",
              "    border-color: transparent;\n",
              "    border-bottom-color: var(--fill-color);\n",
              "    animation:\n",
              "      spin 1s steps(1) infinite;\n",
              "  }\n",
              "\n",
              "  @keyframes spin {\n",
              "    0% {\n",
              "      border-color: transparent;\n",
              "      border-bottom-color: var(--fill-color);\n",
              "      border-left-color: var(--fill-color);\n",
              "    }\n",
              "    20% {\n",
              "      border-color: transparent;\n",
              "      border-left-color: var(--fill-color);\n",
              "      border-top-color: var(--fill-color);\n",
              "    }\n",
              "    30% {\n",
              "      border-color: transparent;\n",
              "      border-left-color: var(--fill-color);\n",
              "      border-top-color: var(--fill-color);\n",
              "      border-right-color: var(--fill-color);\n",
              "    }\n",
              "    40% {\n",
              "      border-color: transparent;\n",
              "      border-right-color: var(--fill-color);\n",
              "      border-top-color: var(--fill-color);\n",
              "    }\n",
              "    60% {\n",
              "      border-color: transparent;\n",
              "      border-right-color: var(--fill-color);\n",
              "    }\n",
              "    80% {\n",
              "      border-color: transparent;\n",
              "      border-right-color: var(--fill-color);\n",
              "      border-bottom-color: var(--fill-color);\n",
              "    }\n",
              "    90% {\n",
              "      border-color: transparent;\n",
              "      border-bottom-color: var(--fill-color);\n",
              "    }\n",
              "  }\n",
              "</style>\n",
              "\n",
              "  <script>\n",
              "    async function quickchart(key) {\n",
              "      const quickchartButtonEl =\n",
              "        document.querySelector('#' + key + ' button');\n",
              "      quickchartButtonEl.disabled = true;  // To prevent multiple clicks.\n",
              "      quickchartButtonEl.classList.add('colab-df-spinner');\n",
              "      try {\n",
              "        const charts = await google.colab.kernel.invokeFunction(\n",
              "            'suggestCharts', [key], {});\n",
              "      } catch (error) {\n",
              "        console.error('Error during call to suggestCharts:', error);\n",
              "      }\n",
              "      quickchartButtonEl.classList.remove('colab-df-spinner');\n",
              "      quickchartButtonEl.classList.add('colab-df-quickchart-complete');\n",
              "    }\n",
              "    (() => {\n",
              "      let quickchartButtonEl =\n",
              "        document.querySelector('#df-47eff8c4-ee40-43a2-8fef-8f9e8a6e829d button');\n",
              "      quickchartButtonEl.style.display =\n",
              "        google.colab.kernel.accessAllowed ? 'block' : 'none';\n",
              "    })();\n",
              "  </script>\n",
              "</div>\n",
              "\n",
              "    </div>\n",
              "  </div>\n"
            ],
            "application/vnd.google.colaboratory.intrinsic+json": {
              "type": "dataframe",
              "variable_name": "train",
              "summary": "{\n  \"name\": \"train\",\n  \"rows\": 7500,\n  \"fields\": [\n    {\n      \"column\": \"score\",\n      \"properties\": {\n        \"dtype\": \"number\",\n        \"std\": 0,\n        \"min\": 0,\n        \"max\": 1,\n        \"num_unique_values\": 2,\n        \"samples\": [\n          1,\n          0\n        ],\n        \"semantic_type\": \"\",\n        \"description\": \"\"\n      }\n    },\n    {\n      \"column\": \"text\",\n      \"properties\": {\n        \"dtype\": \"string\",\n        \"num_unique_values\": 7473,\n        \"samples\": [\n          \"@USAirways @united two broken airplanes, two days Late Flightr and I'm stranded after a funeral and missing out on my last semester of #college. \\ud83d\\udc4d\",\n          \"POSSIBLY VERY MINOR SPOILERS<br /><br />This movie is billed as the first Russian horror movie. Unfortunately, as far as I am concerned, \\\"The Witch\\\" (its Russian title) will take a place of dishonor in the gallery of horrible Russian movies. It is based on Nikolai Gogol's story \\\"Viy\\\" which is a classic in Russia. \\\"Based\\\" is the key word here since no familiarity with the story is required. Instead, the less you know about Gogol, the better. <br /><br />It is a unique production because we are quite used to directors taking stories from other cultures and adapting them to their own culture. The spate of American remakes of foreign films is a prime example, but then again, Sturgess turned Kurosawa's Seven Samurai into The Magnificent Seven with splendid results, and Kurosawa transferred Shakespeare's Macbeth into Japan to make an incredibly powerful Throne in Blood, while King Lear became a riveting Ran. However, with \\\"The Witch,\\\" we have Russians transplanting a Russian classical tale onto the American soil. The movie was shot in Estonia in English with the aim of dubbing it into English using American actors and have reasonably synchronous lip movements. <br /><br />As a natural consequence, lost is the colorful Ukrainian background for the story, in comes a drab American small town seemingly lifted from some outdated horror book manual. Gone is the boozy seminarian Khoma Brutus, instead we have a boozy journalist who is about to win Pullitzer prize, and who at the same time writes about X-Files-like events and frequents Miss Boobs contests. (I never thought Pullitzer prize was given for that kind of writing, now I humbly stand corrected.) In a strange nod to Russianness, the journalist is named Ivan Berkhoff. They should've named him John Smith because it is impossible to get more hackneyed, clich\\u00e9d and generic than this movie. <br /><br />Berkhoff goes to a town named Castleville, gets stranded on a dirt road, staggers on until he finds a dilapidated house and is rather un-welcomed by an old crone. All that to the accompaniment of a radio announcement about the forces of evil being at their most powerful, and people better staying indoors and avoiding water. Need I mention that it's raining really hard? After a few supposedly frightening scenes which had me laughing, the story finds our journalist dressed as a priest, he's mistaken for a priest, and the local sheriff tells him his daughter who died after being brutally attacked wanted the new priest to pray for her for three nights. At this point, the action supposedly starts. Those who have time to kill are welcome to it. <br /><br />What is wrong with this film? Everything, starting with the dialog and down to the prop department. The dialog which I heard in Russian was clearly originally written in English, and it was compiled exclusively from clich\\u00e9s and platitudes picked from American films. The actors just as clearly struggled with English because the timing of their speech was labored and unnatural, and the Russian dubbing followed suit. The acting is mostly atrocious, and not only because the actors find it often difficult to talk but because they don't have anything approaching a range of facial expressions. For the most part, they're just blank or you wish they were. The only exceptions being the sheriff played by Lembit Ulfsak, a fine Estonian actor, and Arnis Lizitis who plays a wheelchair bound resident of Castleville. Oh, and a rooster of course who's absolutely natural on camera! I know actors complain of being upstaged by dogs and cats but when Nikolaev is upstaged by a rooster it is a sad testimony to the general quality of acting in the film.<br /><br />There wasn't a single scary moment in the entire film, and there wasn't a single original moment in the film either. Mind you, this comment's coming from somebody who's rather inexperienced with horror. The film is filled with standard moves used in horror movie since the genre's inception. At a critical moment, the camera lingers lovingly on a kerosene lamp. The lamp promptly goes out. It must have seen a few horror movies, too. An example of supreme idiocy comes at another moment, a character jumps out of a bathtub and runs at the camera. He's wearing something the looks like loincloth! It doesn't get any more idiotic than this!<br /><br />Those in Russia who liked it claim it should've been advertised as a mystical thriller. I wasn't thrilled either. It was run-of-the-mill from start to finish. I particularly enjoyed the fact that the entire population of the little town behaved as if they knew exactly they lived in a horror movie, except they weren't quite sure whether it had zombies or not. Therefore, some of them acted zombie-like just in case. <br /><br />The makers of the film say it's about finding faith. Such a fine collections of idiotic actions, stupidly contrived moments, and, yes, clich\\u00e9s, doesn't deserve to be about finding faith. The movie is so thoroughly and utterly fake it deserves only to be an exhibit in a wax figure museum.\"\n        ],\n        \"semantic_type\": \"\",\n        \"description\": \"\"\n      }\n    }\n  ]\n}"
            }
          },
          "metadata": {},
          "execution_count": 4
        }
      ]
    },
    {
      "cell_type": "code",
      "source": [
        "#Shape of all data\n",
        "print(train.shape)\n",
        "print(test.shape)\n",
        "print(evaluation.shape)"
      ],
      "metadata": {
        "colab": {
          "base_uri": "https://localhost:8080/"
        },
        "id": "EKiMf9rJdtC3",
        "outputId": "c57fc9b8-3319-4183-f493-d1cd9f1f438b"
      },
      "execution_count": 5,
      "outputs": [
        {
          "output_type": "stream",
          "name": "stdout",
          "text": [
            "(7500, 2)\n",
            "(2500, 2)\n",
            "(5000, 2)\n"
          ]
        }
      ]
    },
    {
      "cell_type": "markdown",
      "source": [
        "### **2.Data Cleaning**"
      ],
      "metadata": {
        "id": "1_B-KVOpe_8M"
      }
    },
    {
      "cell_type": "markdown",
      "source": [
        "As i know from the file，Some data may contain HTML tags, hashtags, mentions, emojis, etc.\n",
        "\n",
        "So i need to start solving these steps by steps"
      ],
      "metadata": {
        "id": "0pYv_7mOfI0M"
      }
    },
    {
      "cell_type": "code",
      "source": [
        "#Combine the data together,so we can continue all the process\n",
        "all_data = pd.concat([train,test,evaluation])\n",
        "all_data.shape"
      ],
      "metadata": {
        "colab": {
          "base_uri": "https://localhost:8080/"
        },
        "id": "qrcAextYeDMp",
        "outputId": "f89eec42-0c06-4378-9b6f-23e38fcc8d04"
      },
      "execution_count": 6,
      "outputs": [
        {
          "output_type": "execute_result",
          "data": {
            "text/plain": [
              "(15000, 2)"
            ]
          },
          "metadata": {},
          "execution_count": 6
        }
      ]
    },
    {
      "cell_type": "code",
      "source": [
        "# Define preprocessing function\n",
        "def preprocessing(text):\n",
        "    # Remove HTML tags\n",
        "    # https://beautiful-soup-4.readthedocs.io/en/latest/index.html?highlight=get_text#get-text\n",
        "    soup = BeautifulSoup(text, 'html.parser')\n",
        "    text = soup.get_text(strip=True)\n",
        "\n",
        "    # Remove Hashtags、Mentions and URL\n",
        "    # https://docs.python.org/3/library/re.html#functions\n",
        "    text = re.sub(r'#\\S+', '', text)\n",
        "    text = re.sub(r'@\\S+', '', text)\n",
        "    text = re.sub(r'http\\S+', '', text)\n",
        "\n",
        "    # Remove repeated characters (e.g., \"sooo cooool\" -> \"so cool\")\n",
        "    text = re.sub(r'(.)\\1+', r'\\1', text)\n",
        "\n",
        "    #Remove Emojis\n",
        "    #https://carpedm20.github.io/emoji/docs/#replacing-and-removing-emoji\n",
        "    text = emoji.replace_emoji(text, replace='')\n",
        "\n",
        "    text = text.lower()\n",
        "\n",
        "    return text.strip()\n",
        "\n",
        "# use the function\n",
        "all_data['text']=all_data['text'].apply(preprocessing)"
      ],
      "metadata": {
        "colab": {
          "base_uri": "https://localhost:8080/"
        },
        "id": "VsA_ThCrgzsp",
        "outputId": "43a85a2f-2093-4f77-a15e-22052ddf9063"
      },
      "execution_count": 7,
      "outputs": [
        {
          "output_type": "stream",
          "name": "stderr",
          "text": [
            "<ipython-input-7-6ff6ba665310>:5: MarkupResemblesLocatorWarning: The input looks more like a filename than markup. You may want to open this file and pass the filehandle into Beautiful Soup.\n",
            "  soup = BeautifulSoup(text, 'html.parser')\n"
          ]
        }
      ]
    },
    {
      "cell_type": "code",
      "source": [
        "all_data.shape"
      ],
      "metadata": {
        "colab": {
          "base_uri": "https://localhost:8080/"
        },
        "id": "Xztb3xNwr4WL",
        "outputId": "8ed4e10d-b419-4849-e7a9-84e066298ee6"
      },
      "execution_count": 8,
      "outputs": [
        {
          "output_type": "execute_result",
          "data": {
            "text/plain": [
              "(15000, 2)"
            ]
          },
          "metadata": {},
          "execution_count": 8
        }
      ]
    },
    {
      "cell_type": "code",
      "source": [
        "#Transform 0 to negative，1 to positive\n",
        "mapping = {\n",
        "    0: 'negative',\n",
        "    1: 'positive',\n",
        "}\n",
        "\n",
        "all_data['score'] = all_data['score'].map(mapping)\n",
        "\n",
        "# save to a new csv file for further check\n",
        "all_data.to_csv('processed_file.csv', index=False)"
      ],
      "metadata": {
        "id": "SqXXlx5Zm_hI"
      },
      "execution_count": 9,
      "outputs": []
    },
    {
      "cell_type": "code",
      "source": [
        "#Divide back to train，test，evaulation\n",
        "train = all_data.iloc[:7500]\n",
        "test = all_data.iloc[7500:10000]\n",
        "evaluation = all_data.iloc[10000:]\n",
        "\n",
        "train.shape,test.shape,evaluation.shape"
      ],
      "metadata": {
        "id": "SHMcYOZLr6gU",
        "colab": {
          "base_uri": "https://localhost:8080/"
        },
        "outputId": "76f297ef-4eba-491f-e685-be73a0a09de0"
      },
      "execution_count": 10,
      "outputs": [
        {
          "output_type": "execute_result",
          "data": {
            "text/plain": [
              "((7500, 2), (2500, 2), (5000, 2))"
            ]
          },
          "metadata": {},
          "execution_count": 10
        }
      ]
    },
    {
      "cell_type": "code",
      "source": [
        "train.to_csv('train.csv')"
      ],
      "metadata": {
        "id": "IlPmy1bkiIlM"
      },
      "execution_count": 11,
      "outputs": []
    },
    {
      "cell_type": "markdown",
      "source": [
        "### **3.Model Building**"
      ],
      "metadata": {
        "id": "Mf5spGaLhcg1"
      }
    },
    {
      "cell_type": "markdown",
      "source": [
        "#### **3.1 Naïve Bayesian Classifier**"
      ],
      "metadata": {
        "id": "1DtU8qTLtUzW"
      }
    },
    {
      "cell_type": "code",
      "source": [
        "from sklearn.feature_extraction.text import TfidfVectorizer\n",
        "from sklearn.naive_bayes import MultinomialNB\n",
        "from sklearn.metrics import accuracy_score, classification_report\n",
        "\n",
        "# vectorizer = CountVectorizer()\n",
        "vectorizer = TfidfVectorizer()\n",
        "X = vectorizer.fit_transform(train['text'])\n",
        "X1 = vectorizer.transform(test['text'])\n",
        "\n",
        "y = train['score']\n",
        "y1 = test['score']\n",
        "\n",
        "# Train the model\n",
        "nb_model = MultinomialNB(alpha=0.3)\n",
        "nb_model.fit(X, y)\n",
        "\n",
        "# Predict and evaluate\n",
        "y_pred = nb_model.predict(X1)\n",
        "accuracy = accuracy_score(y1, y_pred)\n",
        "print(f\"Model Accuracy: {accuracy * 100:.2f}%\")"
      ],
      "metadata": {
        "colab": {
          "base_uri": "https://localhost:8080/"
        },
        "id": "j2oYgXochUNm",
        "outputId": "a8945983-fe46-41c1-97b4-095b664ac679"
      },
      "execution_count": 12,
      "outputs": [
        {
          "output_type": "stream",
          "name": "stdout",
          "text": [
            "Model Accuracy: 83.00%\n"
          ]
        }
      ]
    },
    {
      "cell_type": "markdown",
      "source": [
        "#### **3.2 SVM**"
      ],
      "metadata": {
        "id": "tFy80v0Zupv8"
      }
    },
    {
      "cell_type": "code",
      "source": [
        "from sklearn.svm import SVC\n",
        "\n",
        "svm_model = SVC(kernel='linear')\n",
        "svm_model.fit(X, y)\n",
        "\n",
        "y_pred = svm_model.predict(X1)\n",
        "accuracy = accuracy_score(y1, y_pred)\n",
        "print(f\"Model Accuracy: {accuracy * 100:.2f}%\")"
      ],
      "metadata": {
        "colab": {
          "base_uri": "https://localhost:8080/"
        },
        "id": "exVlVH91uXMc",
        "outputId": "46c86368-f258-4bf1-ca69-b8f969182950"
      },
      "execution_count": 13,
      "outputs": [
        {
          "output_type": "stream",
          "name": "stdout",
          "text": [
            "Model Accuracy: 84.72%\n"
          ]
        }
      ]
    },
    {
      "cell_type": "markdown",
      "source": [
        "### **4.Evaluation**"
      ],
      "metadata": {
        "id": "j5KbPXZP8p2u"
      }
    },
    {
      "cell_type": "code",
      "source": [
        "# Naïve Bayesian Evaluation\n",
        "X2 = vectorizer.transform(evaluation['text'])\n",
        "y2 = evaluation['score']\n",
        "\n",
        "y_pred1 = nb_model.predict(X2)\n",
        "accuracy1 = accuracy_score(y2, y_pred1)\n",
        "print(f\"Model Accuracy: {accuracy1 * 100:.2f}%\")"
      ],
      "metadata": {
        "id": "--5rF6bn8wlz",
        "colab": {
          "base_uri": "https://localhost:8080/"
        },
        "outputId": "e04219a2-ba89-4d1a-e030-f952730c0f64"
      },
      "execution_count": 14,
      "outputs": [
        {
          "output_type": "stream",
          "name": "stdout",
          "text": [
            "Model Accuracy: 82.60%\n"
          ]
        }
      ]
    },
    {
      "cell_type": "code",
      "source": [
        "# SVM Evaluation\n",
        "y_pred1 = svm_model.predict(X2)\n",
        "accuracy1 = accuracy_score(y2, y_pred1)\n",
        "print(f\"Model Accuracy: {accuracy1 * 100:.2f}%\")"
      ],
      "metadata": {
        "id": "2agok1zx8y2r",
        "colab": {
          "base_uri": "https://localhost:8080/"
        },
        "outputId": "64a6ac4b-e3b2-402b-a105-659d5b5e1924"
      },
      "execution_count": 15,
      "outputs": [
        {
          "output_type": "stream",
          "name": "stdout",
          "text": [
            "Model Accuracy: 85.02%\n"
          ]
        }
      ]
    }
  ]
}